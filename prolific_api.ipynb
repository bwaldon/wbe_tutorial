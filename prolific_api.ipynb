{
  "nbformat": 4,
  "nbformat_minor": 0,
  "metadata": {
    "colab": {
      "provenance": []
    },
    "kernelspec": {
      "name": "python3",
      "display_name": "Python 3"
    },
    "language_info": {
      "name": "python"
    }
  },
  "cells": [
    {
      "cell_type": "code",
      "execution_count": null,
      "metadata": {
        "id": "1HWP3tYhkcJj"
      },
      "outputs": [],
      "source": [
        "import requests\n",
        "base_url = \"https://api.prolific.com/api/v1/\"\n",
        "headers = {\n",
        "    'Authorization': '[SECRET TOKEN]',\n",
        "    'Content-Type': 'application/json'\n",
        "}\n",
        "def api_query(request,headers={},params={},method=\"get\"):\n",
        "    if method == \"get\":\n",
        "        response = requests.get(request, headers=headers, params=params)\n",
        "    elif method == \"post\":\n",
        "        response = requests.post(request, headers=headers, json=params)\n",
        "    elif method == \"patch\":\n",
        "        response = requests.patch(request, headers=headers, json=params)\n",
        "    elif method == \"delete\":\n",
        "        response = requests.delete(request, headers=headers, json=params)\n",
        "    else:\n",
        "        raise Exception(f\"Invalid method: {method}\")\n",
        "    if 200 <= response.status_code < 300:\n",
        "        return response.json()\n",
        "    else:\n",
        "      raise Exception(f\"Request failed with status code: {response.status_code}, message: {response.text}\")"
      ]
    },
    {
      "cell_type": "code",
      "source": [
        "# Retreive your user info\n",
        "print(api_query(base_url + \"users/me/\",headers))"
      ],
      "metadata": {
        "id": "LmlgjgRkmmY8"
      },
      "execution_count": null,
      "outputs": []
    },
    {
      "cell_type": "code",
      "source": [
        "# Retrive info associated with all studies\n",
        "print(api_query(base_url + \"studies\",headers))"
      ],
      "metadata": {
        "id": "jtwebKEDn9kA"
      },
      "execution_count": null,
      "outputs": []
    },
    {
      "cell_type": "code",
      "source": [
        "# Retrive info associated with just your unpublished or active studies\n",
        "params = {\"state\": \"(UNPUBLISHED|ACTIVE)\"}\n",
        "api_query(base_url + \"studies\",headers,params)"
      ],
      "metadata": {
        "id": "_ClJwZI2qI8Z"
      },
      "execution_count": null,
      "outputs": []
    },
    {
      "cell_type": "code",
      "source": [
        "# Get ids of all 'workspaces' you belong to:\n",
        "api_query(base_url + \"workspaces\",headers)"
      ],
      "metadata": {
        "id": "AnQUibXW132e"
      },
      "execution_count": null,
      "outputs": []
    },
    {
      "cell_type": "code",
      "source": [
        "# Get ids of all projects in the workspace:\n",
        "default_workspace = \"[DEFAULT-WORKSPACE-ID]\"\n",
        "api_query(base_url + \"workspaces/{}\".format(default_workspace),headers)"
      ],
      "metadata": {
        "id": "5GedI7AG2HMo"
      },
      "execution_count": null,
      "outputs": []
    },
    {
      "cell_type": "code",
      "source": [
        "# Create a draft study\n",
        "tutorial_project = '[PROJECT-ID]'\n",
        "draft_study_params = {\n",
        "    \"name\": \"A Google Forms survey on music preferences\",\n",
        "    \"internal_name\": \"API Google Forms music survey\",\n",
        "    \"description\": \"In this survey, you'll be asked a few questions about your taste in music. The survey consists of three questions, and we anticipate that it can be completed in under three minutes. There are no requirements for taking part in this study -- simply answer the questions as best you can. Thanks for participating! NOTICE: There are no known risks, costs, or discomforts in this survey. We cannot and do not guarantee or promise that you will receive any benefits from this survey. Your participation in this experiment will take less than 3 minutes. You will be paid for your participation at the posted rate, consistent with online payment standards. If you have read this form and have decided to participate in this survey, please understand your participation is voluntary and you have the right to withdraw your consent or discontinue participation at any time without penalty or loss of benefits to which you are otherwise entitled. You have the right to refuse to answer particular questions. Your individual privacy will be maintained in all data collected from this survey.\",\n",
        "    \"external_study_url\": \"[STUDY URL]\",\n",
        "    \"prolific_id_option\": \"question\",\n",
        "    \"completion_codes\": [{'code' : \"[COMPLETION CODE]\",\n",
        "                          'code_type' : \"COMPLETED\",\n",
        "                          'action' : \"MANUALLY_REVIEW\"}],\n",
        "    \"total_available_places\": 10,\n",
        "    \"estimated_completion_time\": 3,\n",
        "    \"reward\": 75,\n",
        "    \"project\" : tutorial_project\n",
        "}"
      ],
      "metadata": {
        "id": "tlg_YJSJqQa5"
      },
      "execution_count": null,
      "outputs": []
    },
    {
      "cell_type": "code",
      "source": [
        "make_draft = api_query(base_url + \"studies\",headers,draft_study_params,method=\"post\")\n",
        "experimentid = make_draft['id']\n",
        "experimentid"
      ],
      "metadata": {
        "id": "FJ_oSGvcuKU_"
      },
      "execution_count": null,
      "outputs": []
    },
    {
      "cell_type": "code",
      "source": [
        "# Retrieve a list of filters\n",
        "filters = api_query(base_url + \"filters\",headers)['results']\n",
        "[f['filter_id'] for f in filters][:5]"
      ],
      "metadata": {
        "id": "lXtgLsGJ5GTv"
      },
      "execution_count": null,
      "outputs": []
    },
    {
      "cell_type": "code",
      "source": [
        "[f for f in filters if f['filter_id'] == \"current-country-of-residence\"][0]"
      ],
      "metadata": {
        "id": "-ebXKket5eKL"
      },
      "execution_count": null,
      "outputs": []
    },
    {
      "cell_type": "code",
      "source": [
        "# Update your study with one of the filters.\n",
        "# NOTE: not all fields can be updated after the study has been published. See https://docs.prolific.com/docs/api-docs/public/#tag/Studies/operation/UpdateStudy\n",
        "experiment_update = {\n",
        "    'filters' : [{\n",
        "        'filter_id' : \"current-country-of-residence\",\n",
        "        'selected_values' : [\"1\"]\n",
        "    }]\n",
        "}\n",
        "update_study = api_query(base_url + \"studies/{}\".format(experimentid),headers=headers,params=experiment_update,method=\"patch\")\n",
        "print(\"Updated study \" + update_study['id'])"
      ],
      "metadata": {
        "collapsed": true,
        "id": "oSAcUBwK2s9D"
      },
      "execution_count": null,
      "outputs": []
    },
    {
      "cell_type": "code",
      "source": [
        "# Run your study. DANGER ZONE: RUNS YOUR STUDY!\n",
        "experiment_run = {\n",
        "    \"action\": \"PUBLISH\"\n",
        "    }\n",
        "# # commented out for safety\n",
        "# run_study = api_query(base_url + \"studies/{}}/transition/\".format(experimentid),headers=headers,params=experiment_run,method=\"post\")\n",
        "print(\"Running study \" + run_study['id'])"
      ],
      "metadata": {
        "id": "nl_LV1ji7jp5"
      },
      "execution_count": null,
      "outputs": []
    },
    {
      "cell_type": "code",
      "source": [
        "# Retrieve data associated with your study.\n",
        "# demographic_data = api_query(base_url + \"studies/{}/export/\".format(experimentid),headers)"
      ],
      "metadata": {
        "id": "94qz3PG2AT8a"
      },
      "execution_count": null,
      "outputs": []
    }
  ]
}